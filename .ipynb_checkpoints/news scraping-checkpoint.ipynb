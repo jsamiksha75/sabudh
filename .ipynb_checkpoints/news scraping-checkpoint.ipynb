{
 "cells": [
  {
   "cell_type": "code",
   "execution_count": 1,
   "metadata": {},
   "outputs": [],
   "source": [
    "import requests\n",
    "import csv\n",
    "import pandas as pd\n",
    "from bs4 import BeautifulSoup"
   ]
  },
  {
   "cell_type": "code",
   "execution_count": 2,
   "metadata": {},
   "outputs": [],
   "source": [
    "URL = \"https://www.ndtv.com/top-stories?pfrom=home-topstories\"\n",
    "r = requests.get(URL)"
   ]
  },
  {
   "cell_type": "code",
   "execution_count": 3,
   "metadata": {},
   "outputs": [],
   "source": [
    "soup = BeautifulSoup(r.content, 'html5lib') \n",
    "# print(soup.prettify())"
   ]
  },
  {
   "cell_type": "code",
   "execution_count": 4,
   "metadata": {},
   "outputs": [],
   "source": [
    "data = soup.find_all('div', {'class': 'new_storylising_contentwrap'})"
   ]
  },
  {
   "cell_type": "code",
   "execution_count": 5,
   "metadata": {},
   "outputs": [
    {
     "data": {
      "text/plain": [
       "15"
      ]
     },
     "execution_count": 5,
     "metadata": {},
     "output_type": "execute_result"
    }
   ],
   "source": [
    "len(data)"
   ]
  },
  {
   "cell_type": "code",
   "execution_count": 6,
   "metadata": {},
   "outputs": [],
   "source": [
    "temp = []\n",
    "\n",
    "for item in data:\n",
    "    \n",
    "    head_div = item.contents[0]\n",
    "    author_div = item.contents[1]\n",
    "    content_div = item.contents[2]\n",
    "    \n",
    "    \n",
    "    title = head_div.text.strip()\n",
    "        \n",
    "    if len(author_div.contents) == 2:\n",
    "        author = author_div.contents[0].text\n",
    "        date_loc = author_div.contents[1].strip()\n",
    "    \n",
    "    elif len(author_div.contents) == 5:\n",
    "        author = author_div.contents[3].text\n",
    "        date_loc = author_div.contents[4].strip()\n",
    "    \n",
    "    else:\n",
    "        author = author_div.contents[1].text\n",
    "        date_loc = author_div.contents[2].strip()\n",
    "    \n",
    "    \n",
    "    content = content_div.text\n",
    "    \n",
    "    obj = [title,author,date_loc,content]\n",
    "    \n",
    "    \n",
    "    temp.append(obj)\n",
    "    "
   ]
  },
  {
   "cell_type": "code",
   "execution_count": 7,
   "metadata": {},
   "outputs": [
    {
     "data": {
      "text/plain": [
       "['UP Luxury Hotels, Bars To Be Allowed To Serve Liquor Till Early Morning',\n",
       " 'Alok Pandey',\n",
       " '| Tuesday January 28, 2020, Lucknow',\n",
       " 'Starred hotels and bars in Uttar Pradesh will be allowed to serve liquor till early morning - a decision that the government say will help mop up additional revenue. The new policy is expected to be implemented in the next financial year that begins in April.']"
      ]
     },
     "execution_count": 7,
     "metadata": {},
     "output_type": "execute_result"
    }
   ],
   "source": [
    "temp[0]"
   ]
  },
  {
   "cell_type": "code",
   "execution_count": 8,
   "metadata": {},
   "outputs": [],
   "source": [
    "with open('result.csv', 'w', newline='') as file:\n",
    "    writer = csv.writer(file)\n",
    "    writer.writerow([\"Title\",\"Author\",\"Date & Location\",\"Content\"])\n",
    "    \n",
    "    \n",
    "    writer.writerows(temp)"
   ]
  },
  {
   "cell_type": "code",
   "execution_count": 10,
   "metadata": {},
   "outputs": [
    {
     "data": {
      "text/html": [
       "<div>\n",
       "<style scoped>\n",
       "    .dataframe tbody tr th:only-of-type {\n",
       "        vertical-align: middle;\n",
       "    }\n",
       "\n",
       "    .dataframe tbody tr th {\n",
       "        vertical-align: top;\n",
       "    }\n",
       "\n",
       "    .dataframe thead th {\n",
       "        text-align: right;\n",
       "    }\n",
       "</style>\n",
       "<table border=\"1\" class=\"dataframe\">\n",
       "  <thead>\n",
       "    <tr style=\"text-align: right;\">\n",
       "      <th></th>\n",
       "      <th>Title</th>\n",
       "      <th>Author</th>\n",
       "      <th>Date &amp; Location</th>\n",
       "      <th>Content</th>\n",
       "    </tr>\n",
       "  </thead>\n",
       "  <tbody>\n",
       "    <tr>\n",
       "      <td>0</td>\n",
       "      <td>UP Luxury Hotels, Bars To Be Allowed To Serve ...</td>\n",
       "      <td>Alok Pandey</td>\n",
       "      <td>| Tuesday January 28, 2020, Lucknow</td>\n",
       "      <td>Starred hotels and bars in Uttar Pradesh will ...</td>\n",
       "    </tr>\n",
       "    <tr>\n",
       "      <td>1</td>\n",
       "      <td>Coronavirus: 3 Kept In Isolation At Delhi's RM...</td>\n",
       "      <td>Press Trust of India</td>\n",
       "      <td>| Tuesday January 28, 2020, New Delhi</td>\n",
       "      <td>Three persons with a travel history to China h...</td>\n",
       "    </tr>\n",
       "    <tr>\n",
       "      <td>2</td>\n",
       "      <td>Coronavirus: Six People Under Observation In M...</td>\n",
       "      <td>Press Trust of India</td>\n",
       "      <td>| Tuesday January 28, 2020, Mumbai</td>\n",
       "      <td>A man was hospitalised in Pune on suspicion of...</td>\n",
       "    </tr>\n",
       "    <tr>\n",
       "      <td>3</td>\n",
       "      <td>14 Gujarat Riots Convicts Get Bail, Supreme Co...</td>\n",
       "      <td>Deepshikha Ghosh</td>\n",
       "      <td>| Tuesday January 28, 2020, New Delhi</td>\n",
       "      <td>Fourteen people convicted in a 2002 Gujarat ri...</td>\n",
       "    </tr>\n",
       "    <tr>\n",
       "      <td>4</td>\n",
       "      <td>In PM Modi, Saudi Prince, Jeff Bezos Friended ...</td>\n",
       "      <td>Brad Stone, Bloomberg</td>\n",
       "      <td>| Tuesday January 28, 2020</td>\n",
       "      <td>The last two weeks have been remarkably eventf...</td>\n",
       "    </tr>\n",
       "    <tr>\n",
       "      <td>5</td>\n",
       "      <td>Puducherry Chief Minister Storms Out Of Event,...</td>\n",
       "      <td>Divyanshu Dutta Roy</td>\n",
       "      <td>| Tuesday January 28, 2020, Chennai</td>\n",
       "      <td>The protracted tussle between the Puducherry g...</td>\n",
       "    </tr>\n",
       "    <tr>\n",
       "      <td>6</td>\n",
       "      <td>Breaking Convention, Kerala Muslim Bride Deman...</td>\n",
       "      <td>Arun Nair</td>\n",
       "      <td>| Tuesday January 28, 2020</td>\n",
       "      <td>A newly married Muslim couple in Kerala is win...</td>\n",
       "    </tr>\n",
       "    <tr>\n",
       "      <td>7</td>\n",
       "      <td>Nagpur Teen Choked, Raped In Unconscious State...</td>\n",
       "      <td>Press Trust of India</td>\n",
       "      <td>| Tuesday January 28, 2020, Nagpur</td>\n",
       "      <td>A 19-year-old woman was allegedly raped and to...</td>\n",
       "    </tr>\n",
       "    <tr>\n",
       "      <td>8</td>\n",
       "      <td>Punjab Woman Who Stuffed Son In Bed Box To Elo...</td>\n",
       "      <td>Richa Taneja</td>\n",
       "      <td>| Tuesday January 28, 2020, Chandigarh</td>\n",
       "      <td>The boy, two-and-a-half-year-old, was found de...</td>\n",
       "    </tr>\n",
       "    <tr>\n",
       "      <td>9</td>\n",
       "      <td>India's First Underwater Metro Nears Completio...</td>\n",
       "      <td>Pradipta Mukherjee, Bloomberg</td>\n",
       "      <td>| Tuesday January 28, 2020</td>\n",
       "      <td>Kolkata Metro Rail Corp. expects to complete i...</td>\n",
       "    </tr>\n",
       "    <tr>\n",
       "      <td>10</td>\n",
       "      <td>Brother Of Sedition-Accused JNU Student Taken ...</td>\n",
       "      <td>Arun Nair</td>\n",
       "      <td>| Tuesday January 28, 2020, New Delhi</td>\n",
       "      <td>Two people, including the younger brother of S...</td>\n",
       "    </tr>\n",
       "    <tr>\n",
       "      <td>11</td>\n",
       "      <td>14 Trains Delayed In Northern Railway Region A...</td>\n",
       "      <td>ANI</td>\n",
       "      <td>| Tuesday January 28, 2020, New Delhi</td>\n",
       "      <td>As many as 14 trains are running late on Tuesd...</td>\n",
       "    </tr>\n",
       "    <tr>\n",
       "      <td>12</td>\n",
       "      <td>\"They Will Rape, Kill\": Delhi BJP MP's Shocker...</td>\n",
       "      <td>Divyanshu Dutta Roy</td>\n",
       "      <td>| Tuesday January 28, 2020, New Delhi</td>\n",
       "      <td>Protesters on a sit-in against the controversi...</td>\n",
       "    </tr>\n",
       "    <tr>\n",
       "      <td>13</td>\n",
       "      <td>Kamal Nath Announces Grand Sita Temple To Be C...</td>\n",
       "      <td>ANI</td>\n",
       "      <td>| Tuesday January 28, 2020, Bhopal</td>\n",
       "      <td>The Madhya Pradesh government has announced th...</td>\n",
       "    </tr>\n",
       "    <tr>\n",
       "      <td>14</td>\n",
       "      <td>\"You're Still Too Low Level...\" Pilot Of Kobe ...</td>\n",
       "      <td>Reuters</td>\n",
       "      <td>| Tuesday January 28, 2020, Washington</td>\n",
       "      <td>The pilot of Kobe Bryant's ill-fated helicopte...</td>\n",
       "    </tr>\n",
       "  </tbody>\n",
       "</table>\n",
       "</div>"
      ],
      "text/plain": [
       "                                                Title  \\\n",
       "0   UP Luxury Hotels, Bars To Be Allowed To Serve ...   \n",
       "1   Coronavirus: 3 Kept In Isolation At Delhi's RM...   \n",
       "2   Coronavirus: Six People Under Observation In M...   \n",
       "3   14 Gujarat Riots Convicts Get Bail, Supreme Co...   \n",
       "4   In PM Modi, Saudi Prince, Jeff Bezos Friended ...   \n",
       "5   Puducherry Chief Minister Storms Out Of Event,...   \n",
       "6   Breaking Convention, Kerala Muslim Bride Deman...   \n",
       "7   Nagpur Teen Choked, Raped In Unconscious State...   \n",
       "8   Punjab Woman Who Stuffed Son In Bed Box To Elo...   \n",
       "9   India's First Underwater Metro Nears Completio...   \n",
       "10  Brother Of Sedition-Accused JNU Student Taken ...   \n",
       "11  14 Trains Delayed In Northern Railway Region A...   \n",
       "12  \"They Will Rape, Kill\": Delhi BJP MP's Shocker...   \n",
       "13  Kamal Nath Announces Grand Sita Temple To Be C...   \n",
       "14  \"You're Still Too Low Level...\" Pilot Of Kobe ...   \n",
       "\n",
       "                           Author                         Date & Location  \\\n",
       "0                     Alok Pandey     | Tuesday January 28, 2020, Lucknow   \n",
       "1            Press Trust of India   | Tuesday January 28, 2020, New Delhi   \n",
       "2            Press Trust of India      | Tuesday January 28, 2020, Mumbai   \n",
       "3                Deepshikha Ghosh   | Tuesday January 28, 2020, New Delhi   \n",
       "4           Brad Stone, Bloomberg              | Tuesday January 28, 2020   \n",
       "5             Divyanshu Dutta Roy     | Tuesday January 28, 2020, Chennai   \n",
       "6                       Arun Nair              | Tuesday January 28, 2020   \n",
       "7            Press Trust of India      | Tuesday January 28, 2020, Nagpur   \n",
       "8                    Richa Taneja  | Tuesday January 28, 2020, Chandigarh   \n",
       "9   Pradipta Mukherjee, Bloomberg              | Tuesday January 28, 2020   \n",
       "10                      Arun Nair   | Tuesday January 28, 2020, New Delhi   \n",
       "11                            ANI   | Tuesday January 28, 2020, New Delhi   \n",
       "12            Divyanshu Dutta Roy   | Tuesday January 28, 2020, New Delhi   \n",
       "13                            ANI      | Tuesday January 28, 2020, Bhopal   \n",
       "14                        Reuters  | Tuesday January 28, 2020, Washington   \n",
       "\n",
       "                                              Content  \n",
       "0   Starred hotels and bars in Uttar Pradesh will ...  \n",
       "1   Three persons with a travel history to China h...  \n",
       "2   A man was hospitalised in Pune on suspicion of...  \n",
       "3   Fourteen people convicted in a 2002 Gujarat ri...  \n",
       "4   The last two weeks have been remarkably eventf...  \n",
       "5   The protracted tussle between the Puducherry g...  \n",
       "6   A newly married Muslim couple in Kerala is win...  \n",
       "7   A 19-year-old woman was allegedly raped and to...  \n",
       "8   The boy, two-and-a-half-year-old, was found de...  \n",
       "9   Kolkata Metro Rail Corp. expects to complete i...  \n",
       "10  Two people, including the younger brother of S...  \n",
       "11  As many as 14 trains are running late on Tuesd...  \n",
       "12  Protesters on a sit-in against the controversi...  \n",
       "13  The Madhya Pradesh government has announced th...  \n",
       "14  The pilot of Kobe Bryant's ill-fated helicopte...  "
      ]
     },
     "execution_count": 10,
     "metadata": {},
     "output_type": "execute_result"
    }
   ],
   "source": [
    "df = pd.read_csv('result.csv')\n",
    "df"
   ]
  },
  {
   "cell_type": "code",
   "execution_count": null,
   "metadata": {},
   "outputs": [],
   "source": []
  }
 ],
 "metadata": {
  "kernelspec": {
   "display_name": "Python 3",
   "language": "python",
   "name": "python3"
  },
  "language_info": {
   "codemirror_mode": {
    "name": "ipython",
    "version": 3
   },
   "file_extension": ".py",
   "mimetype": "text/x-python",
   "name": "python",
   "nbconvert_exporter": "python",
   "pygments_lexer": "ipython3",
   "version": "3.7.4"
  }
 },
 "nbformat": 4,
 "nbformat_minor": 4
}
